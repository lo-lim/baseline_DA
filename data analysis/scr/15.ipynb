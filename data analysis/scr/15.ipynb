{
 "cells": [
  {
   "cell_type": "markdown",
   "id": "bb5a806a",
   "metadata": {},
   "source": [
    "# 15 머신러닝을 이용한 예측 분석\n",
    "\n",
    "## 15-1. 머신러닝 모델 알아보기"
   ]
  },
  {
   "cell_type": "markdown",
   "id": "8c2c685b",
   "metadata": {},
   "source": [
    "## 15-2 소득 예측 모델 만들기"
   ]
  },
  {
   "cell_type": "code",
   "execution_count": 1,
   "id": "d5af9aba",
   "metadata": {
    "eval": false
   },
   "outputs": [
    {
     "name": "stdout",
     "output_type": "stream",
     "text": [
      "<class 'pandas.core.frame.DataFrame'>\n",
      "RangeIndex: 48842 entries, 0 to 48841\n",
      "Data columns (total 15 columns):\n",
      " #   Column          Non-Null Count  Dtype \n",
      "---  ------          --------------  ----- \n",
      " 0   age             48842 non-null  int64 \n",
      " 1   workclass       48842 non-null  object\n",
      " 2   fnlwgt          48842 non-null  int64 \n",
      " 3   education       48842 non-null  object\n",
      " 4   education_num   48842 non-null  int64 \n",
      " 5   marital_status  48842 non-null  object\n",
      " 6   occupation      48842 non-null  object\n",
      " 7   relationship    48842 non-null  object\n",
      " 8   race            48842 non-null  object\n",
      " 9   sex             48842 non-null  object\n",
      " 10  capital_gain    48842 non-null  int64 \n",
      " 11  capital_loss    48842 non-null  int64 \n",
      " 12  hours_per_week  48842 non-null  int64 \n",
      " 13  native_country  48842 non-null  object\n",
      " 14  income          48842 non-null  object\n",
      "dtypes: int64(6), object(9)\n",
      "memory usage: 5.6+ MB\n"
     ]
    }
   ],
   "source": [
    "import pandas as pd\n",
    "df = pd.read_csv('adult.csv')\n",
    "df.info()"
   ]
  },
  {
   "cell_type": "markdown",
   "id": "020974cb-1ef6-4f8d-803d-f298ca31759a",
   "metadata": {},
   "source": [
    "### 전처리\n",
    "\n",
    "#### 1. 타겟 변수 전처리"
   ]
  },
  {
   "cell_type": "code",
   "execution_count": 2,
   "id": "1ea33ded",
   "metadata": {},
   "outputs": [
    {
     "data": {
      "text/plain": [
       "<=50K    0.760718\n",
       ">50K     0.239282\n",
       "Name: income, dtype: float64"
      ]
     },
     "execution_count": 2,
     "metadata": {},
     "output_type": "execute_result"
    }
   ],
   "source": [
    "df['income'].value_counts(normalize = True)"
   ]
  },
  {
   "cell_type": "code",
   "execution_count": 3,
   "id": "4aa49f06",
   "metadata": {},
   "outputs": [
    {
     "data": {
      "text/plain": [
       "low     0.760718\n",
       "high    0.239282\n",
       "Name: income, dtype: float64"
      ]
     },
     "execution_count": 3,
     "metadata": {},
     "output_type": "execute_result"
    }
   ],
   "source": [
    "import numpy as np\n",
    "df['income'] = np.where(df['income'] == '>50K', 'high', 'low')\n",
    "df['income'].value_counts(normalize = True)"
   ]
  },
  {
   "cell_type": "markdown",
   "id": "3212e392",
   "metadata": {},
   "source": [
    "#### 2. 불필요한 변수 제거하기"
   ]
  },
  {
   "cell_type": "code",
   "execution_count": 4,
   "id": "1b560274",
   "metadata": {},
   "outputs": [],
   "source": [
    "df = df.drop(columns = 'fnlwgt')"
   ]
  },
  {
   "cell_type": "markdown",
   "id": "59f3fdca",
   "metadata": {},
   "source": [
    "#### 3. 문자 타입 변수를 숫자 타입으로 바꾸기\n",
    "\n",
    "**원핫 인코딩하기**"
   ]
  },
  {
   "cell_type": "code",
   "execution_count": 5,
   "id": "93622099",
   "metadata": {},
   "outputs": [
    {
     "name": "stdout",
     "output_type": "stream",
     "text": [
      "<class 'pandas.core.frame.DataFrame'>\n",
      "RangeIndex: 48842 entries, 0 to 48841\n",
      "Data columns (total 1 columns):\n",
      " #   Column  Non-Null Count  Dtype \n",
      "---  ------  --------------  ----- \n",
      " 0   sex     48842 non-null  object\n",
      "dtypes: object(1)\n",
      "memory usage: 381.7+ KB\n"
     ]
    }
   ],
   "source": [
    "df_tmp = df[['sex']]\n",
    "df_tmp.info()"
   ]
  },
  {
   "cell_type": "code",
   "execution_count": 6,
   "id": "15b897c2",
   "metadata": {},
   "outputs": [
    {
     "data": {
      "text/plain": [
       "Male      32650\n",
       "Female    16192\n",
       "Name: sex, dtype: int64"
      ]
     },
     "execution_count": 6,
     "metadata": {},
     "output_type": "execute_result"
    }
   ],
   "source": [
    "df_tmp['sex'].value_counts()"
   ]
  },
  {
   "cell_type": "code",
   "execution_count": 7,
   "id": "cae96f78",
   "metadata": {},
   "outputs": [
    {
     "name": "stdout",
     "output_type": "stream",
     "text": [
      "<class 'pandas.core.frame.DataFrame'>\n",
      "RangeIndex: 48842 entries, 0 to 48841\n",
      "Data columns (total 2 columns):\n",
      " #   Column      Non-Null Count  Dtype\n",
      "---  ------      --------------  -----\n",
      " 0   sex_Female  48842 non-null  uint8\n",
      " 1   sex_Male    48842 non-null  uint8\n",
      "dtypes: uint8(2)\n",
      "memory usage: 95.5 KB\n"
     ]
    }
   ],
   "source": [
    "# df_tmp의 문자 타입 변수에 원핫 인코딩 적용\n",
    "df_tmp = pd.get_dummies(df_tmp)\n",
    "df_tmp.info()"
   ]
  },
  {
   "cell_type": "code",
   "execution_count": 8,
   "id": "82d3581d",
   "metadata": {},
   "outputs": [
    {
     "data": {
      "text/html": [
       "<div>\n",
       "<style scoped>\n",
       "    .dataframe tbody tr th:only-of-type {\n",
       "        vertical-align: middle;\n",
       "    }\n",
       "\n",
       "    .dataframe tbody tr th {\n",
       "        vertical-align: top;\n",
       "    }\n",
       "\n",
       "    .dataframe thead th {\n",
       "        text-align: right;\n",
       "    }\n",
       "</style>\n",
       "<table border=\"1\" class=\"dataframe\">\n",
       "  <thead>\n",
       "    <tr style=\"text-align: right;\">\n",
       "      <th></th>\n",
       "      <th>sex_Female</th>\n",
       "      <th>sex_Male</th>\n",
       "    </tr>\n",
       "  </thead>\n",
       "  <tbody>\n",
       "    <tr>\n",
       "      <th>0</th>\n",
       "      <td>0</td>\n",
       "      <td>1</td>\n",
       "    </tr>\n",
       "    <tr>\n",
       "      <th>1</th>\n",
       "      <td>0</td>\n",
       "      <td>1</td>\n",
       "    </tr>\n",
       "    <tr>\n",
       "      <th>2</th>\n",
       "      <td>0</td>\n",
       "      <td>1</td>\n",
       "    </tr>\n",
       "    <tr>\n",
       "      <th>3</th>\n",
       "      <td>0</td>\n",
       "      <td>1</td>\n",
       "    </tr>\n",
       "    <tr>\n",
       "      <th>4</th>\n",
       "      <td>1</td>\n",
       "      <td>0</td>\n",
       "    </tr>\n",
       "  </tbody>\n",
       "</table>\n",
       "</div>"
      ],
      "text/plain": [
       "   sex_Female  sex_Male\n",
       "0           0         1\n",
       "1           0         1\n",
       "2           0         1\n",
       "3           0         1\n",
       "4           1         0"
      ]
     },
     "execution_count": 8,
     "metadata": {},
     "output_type": "execute_result"
    }
   ],
   "source": [
    "df_tmp[['sex_Female', 'sex_Male']].head()"
   ]
  },
  {
   "cell_type": "code",
   "execution_count": 9,
   "id": "98f2d96d",
   "metadata": {},
   "outputs": [
    {
     "name": "stdout",
     "output_type": "stream",
     "text": [
      "<class 'pandas.core.frame.DataFrame'>\n",
      "RangeIndex: 48842 entries, 0 to 48841\n",
      "Columns: 108 entries, age to income\n",
      "dtypes: int64(5), object(1), uint8(102)\n",
      "memory usage: 7.0+ MB\n"
     ]
    }
   ],
   "source": [
    "target = df['income']             # income 추출\n",
    "\n",
    "df = df.drop(columns = 'income')  # income 제거\n",
    "df = pd.get_dummies(df)           # 문자 타입 변수 원핫 인코딩\n",
    "\n",
    "df['income'] = target             # df에 target 삽입\n",
    "df.info()"
   ]
  },
  {
   "cell_type": "code",
   "execution_count": null,
   "id": "51fbd479",
   "metadata": {},
   "outputs": [],
   "source": [
    "import numpy as np\n",
    "# df.info(max_cols = np.inf)"
   ]
  },
  {
   "cell_type": "markdown",
   "id": "0377c61a",
   "metadata": {},
   "source": [
    "#### 4. 데이터 분할하기\n",
    "\n",
    "#### adult 데이터 분할하기"
   ]
  },
  {
   "cell_type": "code",
   "execution_count": 11,
   "id": "6d471b64",
   "metadata": {},
   "outputs": [],
   "source": [
    "from sklearn.model_selection import train_test_split\n",
    "df_train, df_test = train_test_split(df,\n",
    "                                     test_size = 0.3,          # 테스트 세트 비율\n",
    "                                     stratify = df['income'],  # 타겟 변수 비율 유지\n",
    "                                     random_state = 1234)      # 난수 고정"
   ]
  },
  {
   "cell_type": "code",
   "execution_count": 12,
   "id": "01d5b882",
   "metadata": {},
   "outputs": [
    {
     "data": {
      "text/plain": [
       "(34189, 108)"
      ]
     },
     "execution_count": 12,
     "metadata": {},
     "output_type": "execute_result"
    }
   ],
   "source": [
    "# train\n",
    "df_train.shape"
   ]
  },
  {
   "cell_type": "code",
   "execution_count": 13,
   "id": "4da6f8a2",
   "metadata": {},
   "outputs": [
    {
     "data": {
      "text/plain": [
       "(14653, 108)"
      ]
     },
     "execution_count": 13,
     "metadata": {},
     "output_type": "execute_result"
    }
   ],
   "source": [
    "# test\n",
    "df_test.shape"
   ]
  },
  {
   "cell_type": "code",
   "execution_count": 14,
   "id": "1f695de8",
   "metadata": {},
   "outputs": [
    {
     "data": {
      "text/plain": [
       "low     0.760713\n",
       "high    0.239287\n",
       "Name: income, dtype: float64"
      ]
     },
     "execution_count": 14,
     "metadata": {},
     "output_type": "execute_result"
    }
   ],
   "source": [
    "# train\n",
    "df_train['income'].value_counts(normalize = True)"
   ]
  },
  {
   "cell_type": "code",
   "execution_count": 15,
   "id": "cc654b62",
   "metadata": {},
   "outputs": [
    {
     "data": {
      "text/plain": [
       "low     0.760732\n",
       "high    0.239268\n",
       "Name: income, dtype: float64"
      ]
     },
     "execution_count": 15,
     "metadata": {},
     "output_type": "execute_result"
    }
   ],
   "source": [
    "# test\n",
    "df_test['income'].value_counts(normalize = True)"
   ]
  },
  {
   "cell_type": "markdown",
   "id": "8fa963bf",
   "metadata": {},
   "source": [
    "### 의사결정나무 모델 만들기\n",
    "\n",
    "#### 모델 설정하기"
   ]
  },
  {
   "cell_type": "code",
   "execution_count": 16,
   "id": "a1990d13",
   "metadata": {},
   "outputs": [],
   "source": [
    "from sklearn import tree\n",
    "clf = tree.DecisionTreeClassifier(random_state = 1234,  # 난수 고정\n",
    "                                  max_depth = 3)        # 나무 깊이"
   ]
  },
  {
   "cell_type": "markdown",
   "id": "6c5199e9",
   "metadata": {},
   "source": [
    "#### 모델 만들기"
   ]
  },
  {
   "cell_type": "code",
   "execution_count": 17,
   "id": "2c08385f",
   "metadata": {},
   "outputs": [],
   "source": [
    "train_x = df_train.drop(columns = 'income')  # 예측 변수 추출\n",
    "train_y = df_train['income']                 # 타겟 변수 추출\n",
    "\n",
    "model = clf.fit(X = train_x, y = train_y)    # 모델 만들기"
   ]
  },
  {
   "cell_type": "markdown",
   "id": "78ba7c58",
   "metadata": {},
   "source": [
    "### 모델 구조 살펴보기"
   ]
  },
  {
   "cell_type": "code",
   "execution_count": 18,
   "id": "2e7fc39b",
   "metadata": {
    "eval": false
   },
   "outputs": [
    {
     "data": {
      "image/png": "[encoded data removed]",
      "text/plain": [
       "<Figure size 1200x800 with 1 Axes>"
      ]
     },
     "metadata": {
      "needs_background": "light"
     },
     "output_type": "display_data"
    }
   ],
   "source": [
    "import matplotlib.pyplot as plt\n",
    "plt.rcParams.update({'figure.figsize' : [12, 8],  # 그래프 크기 설정\n",
    "                     'figure.dpi'     : '100'})   # 해상도 설정\n",
    "                     \n",
    "tree.plot_tree(model);                            # 그래프 출력"
   ]
  },
  {
   "cell_type": "code",
   "execution_count": 20,
   "id": "fcf16bb5",
   "metadata": {
    "eval": false
   },
   "outputs": [
    {
     "data": {
      "image/png": "[encoded data removed]",
      "text/plain": [
       "<Figure size 1200x800 with 1 Axes>"
      ]
     },
     "metadata": {
      "needs_background": "light"
     },
     "output_type": "display_data"
    }
   ],
   "source": [
    "tree.plot_tree(model,\n",
    "               feature_names = train_x.columns,  # 예측 변수명\n",
    "               class_names = [\"high\", \"low\"],    # 타겟 변수 클래스, 알파벳순\n",
    "               proportion = True,                # 비율 표기\n",
    "               filled = True,                    # 색칠\n",
    "               rounded = True,                   # 둥근 테두리\n",
    "               impurity = False,                 # 불순도 표시\n",
    "               label = 'root',                   # label 표시 위치\n",
    "               fontsize = 10);                   # 글자 크기"
   ]
  },
  {
   "cell_type": "markdown",
   "id": "1e4eff89",
   "metadata": {},
   "source": [
    "### 모델을 이용해 예측하기"
   ]
  },
  {
   "cell_type": "code",
   "execution_count": 21,
   "id": "9f236e19",
   "metadata": {},
   "outputs": [],
   "source": [
    "test_x = df_test.drop(columns = 'income')  # 예측 변수 추출\n",
    "test_y = df_test['income']                 # 타겟 변수 추출"
   ]
  },
  {
   "cell_type": "code",
   "execution_count": 22,
   "id": "08b812e3",
   "metadata": {},
   "outputs": [
    {
     "data": {
      "text/html": [
       "<div>\n",
       "<style scoped>\n",
       "    .dataframe tbody tr th:only-of-type {\n",
       "        vertical-align: middle;\n",
       "    }\n",
       "\n",
       "    .dataframe tbody tr th {\n",
       "        vertical-align: top;\n",
       "    }\n",
       "\n",
       "    .dataframe thead th {\n",
       "        text-align: right;\n",
       "    }\n",
       "</style>\n",
       "<table border=\"1\" class=\"dataframe\">\n",
       "  <thead>\n",
       "    <tr style=\"text-align: right;\">\n",
       "      <th></th>\n",
       "      <th>age</th>\n",
       "      <th>education_num</th>\n",
       "      <th>capital_gain</th>\n",
       "      <th>capital_loss</th>\n",
       "      <th>hours_per_week</th>\n",
       "      <th>workclass_?</th>\n",
       "      <th>workclass_Federal-gov</th>\n",
       "      <th>workclass_Local-gov</th>\n",
       "      <th>workclass_Never-worked</th>\n",
       "      <th>workclass_Private</th>\n",
       "      <th>...</th>\n",
       "      <th>native_country_Scotland</th>\n",
       "      <th>native_country_South</th>\n",
       "      <th>native_country_Taiwan</th>\n",
       "      <th>native_country_Thailand</th>\n",
       "      <th>native_country_Trinadad&amp;Tobago</th>\n",
       "      <th>native_country_United-States</th>\n",
       "      <th>native_country_Vietnam</th>\n",
       "      <th>native_country_Yugoslavia</th>\n",
       "      <th>income</th>\n",
       "      <th>pred</th>\n",
       "    </tr>\n",
       "  </thead>\n",
       "  <tbody>\n",
       "    <tr>\n",
       "      <th>11712</th>\n",
       "      <td>58</td>\n",
       "      <td>10</td>\n",
       "      <td>0</td>\n",
       "      <td>0</td>\n",
       "      <td>60</td>\n",
       "      <td>0</td>\n",
       "      <td>0</td>\n",
       "      <td>0</td>\n",
       "      <td>0</td>\n",
       "      <td>0</td>\n",
       "      <td>...</td>\n",
       "      <td>0</td>\n",
       "      <td>0</td>\n",
       "      <td>0</td>\n",
       "      <td>0</td>\n",
       "      <td>0</td>\n",
       "      <td>1</td>\n",
       "      <td>0</td>\n",
       "      <td>0</td>\n",
       "      <td>low</td>\n",
       "      <td>low</td>\n",
       "    </tr>\n",
       "    <tr>\n",
       "      <th>24768</th>\n",
       "      <td>39</td>\n",
       "      <td>10</td>\n",
       "      <td>0</td>\n",
       "      <td>0</td>\n",
       "      <td>40</td>\n",
       "      <td>0</td>\n",
       "      <td>0</td>\n",
       "      <td>0</td>\n",
       "      <td>0</td>\n",
       "      <td>1</td>\n",
       "      <td>...</td>\n",
       "      <td>0</td>\n",
       "      <td>0</td>\n",
       "      <td>0</td>\n",
       "      <td>0</td>\n",
       "      <td>0</td>\n",
       "      <td>0</td>\n",
       "      <td>0</td>\n",
       "      <td>0</td>\n",
       "      <td>low</td>\n",
       "      <td>low</td>\n",
       "    </tr>\n",
       "    <tr>\n",
       "      <th>26758</th>\n",
       "      <td>31</td>\n",
       "      <td>4</td>\n",
       "      <td>0</td>\n",
       "      <td>0</td>\n",
       "      <td>20</td>\n",
       "      <td>0</td>\n",
       "      <td>0</td>\n",
       "      <td>0</td>\n",
       "      <td>0</td>\n",
       "      <td>1</td>\n",
       "      <td>...</td>\n",
       "      <td>0</td>\n",
       "      <td>0</td>\n",
       "      <td>0</td>\n",
       "      <td>0</td>\n",
       "      <td>0</td>\n",
       "      <td>1</td>\n",
       "      <td>0</td>\n",
       "      <td>0</td>\n",
       "      <td>low</td>\n",
       "      <td>low</td>\n",
       "    </tr>\n",
       "    <tr>\n",
       "      <th>14295</th>\n",
       "      <td>23</td>\n",
       "      <td>9</td>\n",
       "      <td>0</td>\n",
       "      <td>0</td>\n",
       "      <td>40</td>\n",
       "      <td>0</td>\n",
       "      <td>0</td>\n",
       "      <td>0</td>\n",
       "      <td>0</td>\n",
       "      <td>1</td>\n",
       "      <td>...</td>\n",
       "      <td>0</td>\n",
       "      <td>0</td>\n",
       "      <td>0</td>\n",
       "      <td>0</td>\n",
       "      <td>0</td>\n",
       "      <td>1</td>\n",
       "      <td>0</td>\n",
       "      <td>0</td>\n",
       "      <td>low</td>\n",
       "      <td>low</td>\n",
       "    </tr>\n",
       "    <tr>\n",
       "      <th>3683</th>\n",
       "      <td>24</td>\n",
       "      <td>9</td>\n",
       "      <td>0</td>\n",
       "      <td>0</td>\n",
       "      <td>40</td>\n",
       "      <td>0</td>\n",
       "      <td>0</td>\n",
       "      <td>0</td>\n",
       "      <td>0</td>\n",
       "      <td>1</td>\n",
       "      <td>...</td>\n",
       "      <td>0</td>\n",
       "      <td>0</td>\n",
       "      <td>0</td>\n",
       "      <td>0</td>\n",
       "      <td>0</td>\n",
       "      <td>1</td>\n",
       "      <td>0</td>\n",
       "      <td>0</td>\n",
       "      <td>low</td>\n",
       "      <td>low</td>\n",
       "    </tr>\n",
       "    <tr>\n",
       "      <th>...</th>\n",
       "      <td>...</td>\n",
       "      <td>...</td>\n",
       "      <td>...</td>\n",
       "      <td>...</td>\n",
       "      <td>...</td>\n",
       "      <td>...</td>\n",
       "      <td>...</td>\n",
       "      <td>...</td>\n",
       "      <td>...</td>\n",
       "      <td>...</td>\n",
       "      <td>...</td>\n",
       "      <td>...</td>\n",
       "      <td>...</td>\n",
       "      <td>...</td>\n",
       "      <td>...</td>\n",
       "      <td>...</td>\n",
       "      <td>...</td>\n",
       "      <td>...</td>\n",
       "      <td>...</td>\n",
       "      <td>...</td>\n",
       "      <td>...</td>\n",
       "    </tr>\n",
       "    <tr>\n",
       "      <th>11985</th>\n",
       "      <td>24</td>\n",
       "      <td>13</td>\n",
       "      <td>0</td>\n",
       "      <td>0</td>\n",
       "      <td>30</td>\n",
       "      <td>0</td>\n",
       "      <td>0</td>\n",
       "      <td>0</td>\n",
       "      <td>0</td>\n",
       "      <td>1</td>\n",
       "      <td>...</td>\n",
       "      <td>0</td>\n",
       "      <td>0</td>\n",
       "      <td>0</td>\n",
       "      <td>0</td>\n",
       "      <td>0</td>\n",
       "      <td>1</td>\n",
       "      <td>0</td>\n",
       "      <td>0</td>\n",
       "      <td>low</td>\n",
       "      <td>low</td>\n",
       "    </tr>\n",
       "    <tr>\n",
       "      <th>48445</th>\n",
       "      <td>35</td>\n",
       "      <td>13</td>\n",
       "      <td>10520</td>\n",
       "      <td>0</td>\n",
       "      <td>45</td>\n",
       "      <td>0</td>\n",
       "      <td>0</td>\n",
       "      <td>0</td>\n",
       "      <td>0</td>\n",
       "      <td>1</td>\n",
       "      <td>...</td>\n",
       "      <td>0</td>\n",
       "      <td>0</td>\n",
       "      <td>0</td>\n",
       "      <td>0</td>\n",
       "      <td>0</td>\n",
       "      <td>1</td>\n",
       "      <td>0</td>\n",
       "      <td>0</td>\n",
       "      <td>high</td>\n",
       "      <td>high</td>\n",
       "    </tr>\n",
       "    <tr>\n",
       "      <th>19639</th>\n",
       "      <td>41</td>\n",
       "      <td>9</td>\n",
       "      <td>0</td>\n",
       "      <td>0</td>\n",
       "      <td>40</td>\n",
       "      <td>0</td>\n",
       "      <td>0</td>\n",
       "      <td>0</td>\n",
       "      <td>0</td>\n",
       "      <td>1</td>\n",
       "      <td>...</td>\n",
       "      <td>0</td>\n",
       "      <td>0</td>\n",
       "      <td>0</td>\n",
       "      <td>0</td>\n",
       "      <td>0</td>\n",
       "      <td>1</td>\n",
       "      <td>0</td>\n",
       "      <td>0</td>\n",
       "      <td>high</td>\n",
       "      <td>low</td>\n",
       "    </tr>\n",
       "    <tr>\n",
       "      <th>21606</th>\n",
       "      <td>29</td>\n",
       "      <td>4</td>\n",
       "      <td>0</td>\n",
       "      <td>0</td>\n",
       "      <td>30</td>\n",
       "      <td>0</td>\n",
       "      <td>0</td>\n",
       "      <td>0</td>\n",
       "      <td>0</td>\n",
       "      <td>1</td>\n",
       "      <td>...</td>\n",
       "      <td>0</td>\n",
       "      <td>0</td>\n",
       "      <td>0</td>\n",
       "      <td>0</td>\n",
       "      <td>0</td>\n",
       "      <td>0</td>\n",
       "      <td>0</td>\n",
       "      <td>0</td>\n",
       "      <td>low</td>\n",
       "      <td>low</td>\n",
       "    </tr>\n",
       "    <tr>\n",
       "      <th>3822</th>\n",
       "      <td>31</td>\n",
       "      <td>13</td>\n",
       "      <td>0</td>\n",
       "      <td>0</td>\n",
       "      <td>40</td>\n",
       "      <td>0</td>\n",
       "      <td>0</td>\n",
       "      <td>0</td>\n",
       "      <td>0</td>\n",
       "      <td>1</td>\n",
       "      <td>...</td>\n",
       "      <td>0</td>\n",
       "      <td>0</td>\n",
       "      <td>0</td>\n",
       "      <td>0</td>\n",
       "      <td>0</td>\n",
       "      <td>1</td>\n",
       "      <td>0</td>\n",
       "      <td>0</td>\n",
       "      <td>low</td>\n",
       "      <td>low</td>\n",
       "    </tr>\n",
       "  </tbody>\n",
       "</table>\n",
       "<p>14653 rows × 109 columns</p>\n",
       "</div>"
      ],
      "text/plain": [
       "       age  education_num  capital_gain  capital_loss  hours_per_week  \\\n",
       "11712   58             10             0             0              60   \n",
       "24768   39             10             0             0              40   \n",
       "26758   31              4             0             0              20   \n",
       "14295   23              9             0             0              40   \n",
       "3683    24              9             0             0              40   \n",
       "...    ...            ...           ...           ...             ...   \n",
       "11985   24             13             0             0              30   \n",
       "48445   35             13         10520             0              45   \n",
       "19639   41              9             0             0              40   \n",
       "21606   29              4             0             0              30   \n",
       "3822    31             13             0             0              40   \n",
       "\n",
       "       workclass_?  workclass_Federal-gov  workclass_Local-gov  \\\n",
       "11712            0                      0                    0   \n",
       "24768            0                      0                    0   \n",
       "26758            0                      0                    0   \n",
       "14295            0                      0                    0   \n",
       "3683             0                      0                    0   \n",
       "...            ...                    ...                  ...   \n",
       "11985            0                      0                    0   \n",
       "48445            0                      0                    0   \n",
       "19639            0                      0                    0   \n",
       "21606            0                      0                    0   \n",
       "3822             0                      0                    0   \n",
       "\n",
       "       workclass_Never-worked  workclass_Private  ...  \\\n",
       "11712                       0                  0  ...   \n",
       "24768                       0                  1  ...   \n",
       "26758                       0                  1  ...   \n",
       "14295                       0                  1  ...   \n",
       "3683                        0                  1  ...   \n",
       "...                       ...                ...  ...   \n",
       "11985                       0                  1  ...   \n",
       "48445                       0                  1  ...   \n",
       "19639                       0                  1  ...   \n",
       "21606                       0                  1  ...   \n",
       "3822                        0                  1  ...   \n",
       "\n",
       "       native_country_Scotland  native_country_South  native_country_Taiwan  \\\n",
       "11712                        0                     0                      0   \n",
       "24768                        0                     0                      0   \n",
       "26758                        0                     0                      0   \n",
       "14295                        0                     0                      0   \n",
       "3683                         0                     0                      0   \n",
       "...                        ...                   ...                    ...   \n",
       "11985                        0                     0                      0   \n",
       "48445                        0                     0                      0   \n",
       "19639                        0                     0                      0   \n",
       "21606                        0                     0                      0   \n",
       "3822                         0                     0                      0   \n",
       "\n",
       "       native_country_Thailand  native_country_Trinadad&Tobago  \\\n",
       "11712                        0                               0   \n",
       "24768                        0                               0   \n",
       "26758                        0                               0   \n",
       "14295                        0                               0   \n",
       "3683                         0                               0   \n",
       "...                        ...                             ...   \n",
       "11985                        0                               0   \n",
       "48445                        0                               0   \n",
       "19639                        0                               0   \n",
       "21606                        0                               0   \n",
       "3822                         0                               0   \n",
       "\n",
       "       native_country_United-States  native_country_Vietnam  \\\n",
       "11712                             1                       0   \n",
       "24768                             0                       0   \n",
       "26758                             1                       0   \n",
       "14295                             1                       0   \n",
       "3683                              1                       0   \n",
       "...                             ...                     ...   \n",
       "11985                             1                       0   \n",
       "48445                             1                       0   \n",
       "19639                             1                       0   \n",
       "21606                             0                       0   \n",
       "3822                              1                       0   \n",
       "\n",
       "       native_country_Yugoslavia  income  pred  \n",
       "11712                          0     low   low  \n",
       "24768                          0     low   low  \n",
       "26758                          0     low   low  \n",
       "14295                          0     low   low  \n",
       "3683                           0     low   low  \n",
       "...                          ...     ...   ...  \n",
       "11985                          0     low   low  \n",
       "48445                          0    high  high  \n",
       "19639                          0    high   low  \n",
       "21606                          0     low   low  \n",
       "3822                           0     low   low  \n",
       "\n",
       "[14653 rows x 109 columns]"
      ]
     },
     "execution_count": 22,
     "metadata": {},
     "output_type": "execute_result"
    }
   ],
   "source": [
    "# 예측값 구하기\n",
    "df_test['pred'] = model.predict(test_x)\n",
    "df_test"
   ]
  },
  {
   "cell_type": "markdown",
   "id": "224ea468",
   "metadata": {},
   "source": [
    "### 성능 평가하기\n",
    "\n",
    "#### confusion matrix 만들기"
   ]
  },
  {
   "cell_type": "code",
   "execution_count": 23,
   "id": "548a5cfe",
   "metadata": {},
   "outputs": [
    {
     "data": {
      "text/plain": [
       "array([[ 1801,  1705],\n",
       "       [  582, 10565]], dtype=int64)"
      ]
     },
     "execution_count": 23,
     "metadata": {},
     "output_type": "execute_result"
    }
   ],
   "source": [
    "from sklearn.metrics import confusion_matrix\n",
    "conf_mat = confusion_matrix(y_true = df_test['income'],  # 실제값\n",
    "                            y_pred = df_test['pred'],    # 예측값\n",
    "                            labels = ['high', 'low'])    # 클래스 배치 순서\n",
    "conf_mat"
   ]
  },
  {
   "cell_type": "code",
   "execution_count": 26,
   "id": "34e01160",
   "metadata": {
    "eval": false
   },
   "outputs": [],
   "source": [
    "plt.rcParams.update(plt.rcParamsDefault)        # 그래프 설정 되돌리기"
   ]
  },
  {
   "cell_type": "code",
   "execution_count": 27,
   "id": "79207ae6",
   "metadata": {
    "eval": false
   },
   "outputs": [
    {
     "data": {
      "text/plain": [
       "<sklearn.metrics._plot.confusion_matrix.ConfusionMatrixDisplay at 0x2a9c7b3b8b0>"
      ]
     },
     "execution_count": 27,
     "metadata": {},
     "output_type": "execute_result"
    },
    {
     "data": {
      "image/png": "[encoded data removed]",
      "text/plain": [
       "<Figure size 640x480 with 2 Axes>"
      ]
     },
     "metadata": {},
     "output_type": "display_data"
    }
   ],
   "source": [
    "from sklearn.metrics import ConfusionMatrixDisplay\n",
    "p = ConfusionMatrixDisplay(confusion_matrix = conf_mat,       # 컨퓨전 매트릭스\n",
    "                           display_labels = ('high', 'low'))  # 타겟 변수 클래스명\n",
    "p.plot(cmap = 'Blues')                                        # 컬러맵 적용해 출력\n"
   ]
  },
  {
   "cell_type": "markdown",
   "id": "4cd60fad",
   "metadata": {},
   "source": [
    "#### 성능 평가 지표 구하기\n",
    "\n",
    "**accuracy**"
   ]
  },
  {
   "cell_type": "code",
   "execution_count": 28,
   "id": "b3ac08da",
   "metadata": {},
   "outputs": [
    {
     "data": {
      "text/plain": [
       "0.8439227461953184"
      ]
     },
     "execution_count": 28,
     "metadata": {},
     "output_type": "execute_result"
    }
   ],
   "source": [
    "import sklearn.metrics as metrics\n",
    "metrics.accuracy_score(y_true = df_test['income'],  # 실제값\n",
    "                       y_pred = df_test['pred'])    # 예측값"
   ]
  },
  {
   "cell_type": "markdown",
   "id": "e3d58b63",
   "metadata": {},
   "source": [
    "**precision**"
   ]
  },
  {
   "cell_type": "code",
   "execution_count": 29,
   "id": "e5c0d2b3",
   "metadata": {},
   "outputs": [
    {
     "data": {
      "text/plain": [
       "0.7557700377675199"
      ]
     },
     "execution_count": 29,
     "metadata": {},
     "output_type": "execute_result"
    }
   ],
   "source": [
    "metrics.precision_score(y_true = df_test['income'],  # 실제값\n",
    "                        y_pred = df_test['pred'],    # 예측값\n",
    "                        pos_label = 'high')          # 관심 클래스"
   ]
  },
  {
   "cell_type": "markdown",
   "id": "2fb78943",
   "metadata": {},
   "source": [
    "**recall**"
   ]
  },
  {
   "cell_type": "code",
   "execution_count": 30,
   "id": "831fa5b8",
   "metadata": {},
   "outputs": [
    {
     "data": {
      "text/plain": [
       "0.5136908157444381"
      ]
     },
     "execution_count": 30,
     "metadata": {},
     "output_type": "execute_result"
    }
   ],
   "source": [
    "metrics.recall_score(y_true = df_test['income'],  # 실제값\n",
    "                     y_pred = df_test['pred'],    # 예측값\n",
    "                     pos_label = 'high')          # 관심 클래스\n"
   ]
  },
  {
   "cell_type": "markdown",
   "id": "2bf3adf1",
   "metadata": {},
   "source": [
    "**F1 score**"
   ]
  },
  {
   "cell_type": "code",
   "execution_count": 31,
   "id": "5522eaf0",
   "metadata": {},
   "outputs": [
    {
     "data": {
      "text/plain": [
       "0.6116488368143997"
      ]
     },
     "execution_count": 31,
     "metadata": {},
     "output_type": "execute_result"
    }
   ],
   "source": [
    "metrics.f1_score(y_true = df_test['income'],  # 실제값\n",
    "                 y_pred = df_test['pred'],    # 예측값\n",
    "                 pos_label = 'high')          # 관심 클래스"
   ]
  },
  {
   "cell_type": "markdown",
   "id": "0a76d946-0406-402b-96e8-0ec6ba228212",
   "metadata": {},
   "source": [
    "### 정리하기"
   ]
  },
  {
   "cell_type": "code",
   "execution_count": null,
   "id": "f8567cad",
   "metadata": {
    "eval": false
   },
   "outputs": [],
   "source": [
    "## 1. 전처리\n",
    "\n",
    "# 데이터 불러오기\n",
    "import pandas as pd\n",
    "df = pd.read_csv('adult.csv')\n",
    "\n",
    "# 1. 타겟 변수 전처리\n",
    "import numpy as np\n",
    "df['income'] = np.where(df['income'] == '>50K', 'high', 'low')\n",
    "\n",
    "# 2. 불필요한 변수 제거하기\n",
    "df = df.drop(columns = 'fnlwgt')\n",
    "\n",
    "# 3. 문자 타입 변수를 숫자 타입으로 바꾸기\n",
    "target = df['income']             # income 추출\n",
    "df = df.drop(columns = 'income')  # income 제거\n",
    "df = pd.get_dummies(df)           # 원핫 인코딩으로 변환\n",
    "df['income'] = target             # df에 target 삽입\n",
    "\n",
    "# 4. 데이터 분할하기\n",
    "from sklearn.model_selection import train_test_split\n",
    "df_train, df_test = train_test_split(df,\n",
    "                                     test_size = 0.3,          # 테스트 세트 비율\n",
    "                                     stratify = df['income'],  # 타겟 변수 비율 유지\n",
    "                                     random_state = 1234)      # 난수 고정\n",
    "\n",
    "## 2. 의사결정나무 모델 만들기\n",
    "\n",
    "# 모델 설정하기\n",
    "from sklearn import tree\n",
    "clf = tree.DecisionTreeClassifier(random_state = 1234,  # 난수 고정\n",
    "                                  max_depth = 3)        # 나무 깊이\n",
    "\n",
    "# 모델 만들기\n",
    "train_x = df_train.drop(columns = 'income')             # 예측 변수 추출\n",
    "train_y = df_train['income']                            # 타겟 변수 추출\n",
    "model = clf.fit(X = train_x, y = train_y)               # 모델 만들기\n",
    "\n",
    "# 모델 구조 살펴보기\n",
    "import matplotlib.pyplot as plt\n",
    "tree.plot_tree(model,\n",
    "               feature_names = train_x.columns,    # 예측 변수명\n",
    "               class_names = [\"high\", \"low\"],      # 타겟 변수 클래스, 알파벳순\n",
    "               proportion = True,                  # 비율 표기\n",
    "               filled = True,                      # 색칠\n",
    "               rounded = True,                     # 둥근 테두리\n",
    "               impurity = False,                   # 불순도 표시\n",
    "               label = 'root',                     # label 표시 위치\n",
    "               fontsize = 12)                      # 글자 크기\n",
    "\n",
    "## 3. 모델을 이용해 예측하기\n",
    "\n",
    "# 예측하기\n",
    "test_x = df_test.drop(columns = 'income')    # 예측 변수 추출\n",
    "test_y = df_test['income']                   # 타겟 변수 추출\n",
    "df_test['pred'] = model.predict(test_x)      # 예측값 구하기\n",
    "\n",
    "## 4. 성능 평가하기\n",
    "\n",
    "# confusion matrix 만들기\n",
    "from sklearn import metrics\n",
    "conf_mat = confusion_matrix(y_true = df_test['income'],  # 실제값\n",
    "                            y_pred = df_test['pred'],    # 예측값\n",
    "                            labels = ['high', 'low'])    # 클래스 배치 순서\n",
    "\n",
    "# confusion matrix 시각화\n",
    "from sklearn.metrics import ConfusionMatrixDisplay\n",
    "p = ConfusionMatrixDisplay(confusion_matrix = conf_mat,       # 컨퓨전 매트릭스\n",
    "                           display_labels = ('high', 'low'))  # 타겟 변수 클래스명\n",
    "p.plot(cmap = 'Blues')                                        # 컬러맵 적용해 출력\n",
    "\n",
    "# accuracy\n",
    "metrics.accuracy_score(y_true = df_test['income'],   # 실제값\n",
    "                       y_pred = df_test['pred'])     # 예측값\n",
    "\n",
    "# precision\n",
    "metrics.precision_score(y_true = df_test['income'],  # 실제값\n",
    "                        y_pred = df_test['pred'],    # 예측값\n",
    "                        pos_label = 'high')          # 관심 클래스\n",
    "\n",
    "# recall\n",
    "metrics.recall_score(y_true = df_test['income'],     # 실제값\n",
    "                     y_pred = df_test['pred'],       # 예측값\n",
    "                     pos_label = 'high')             # 관심 클래스\n",
    "\n",
    "# F1 score\n",
    "metrics.f1_score(y_true = df_test['income'],         # 실제값\n",
    "                 y_pred = df_test['pred'],           # 예측값\n",
    "                 pos_label = 'high')                 # 관심 클래스\n"
   ]
  }
 ],
 "metadata": {
  "jupytext": {
   "cell_metadata_filter": "name,eval,tags,echo,-all",
   "notebook_metadata_filter": "-all"
  },
  "kernelspec": {
   "display_name": "Python 3 (ipykernel)",
   "language": "python",
   "name": "python3"
  },
  "language_info": {
   "codemirror_mode": {
    "name": "ipython",
    "version": 3
   },
   "file_extension": ".py",
   "mimetype": "text/x-python",
   "name": "python",
   "nbconvert_exporter": "python",
   "pygments_lexer": "ipython3",
   "version": "3.9.12"
  }
 },
 "nbformat": 4,
 "nbformat_minor": 5
}
