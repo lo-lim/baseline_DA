{
 "cells": [
  {
   "cell_type": "markdown",
   "id": "e199bb71-bd87-4f8b-8952-cfac6ee2c3e7",
   "metadata": {},
   "source": [
    "# 13 마크다운으로 데이터 분석 보고서 만들기\n",
    "\n",
    "## 13-1 신뢰할 수 있는 데이터 분석 보고서 만들기"
   ]
  },
  {
   "cell_type": "markdown",
   "id": "fdc6dff9-937a-45f8-8d40-e0ed7c04a280",
   "metadata": {},
   "source": [
    "## 13-2 마크다운 문서 만들기"
   ]
  },
  {
   "cell_type": "markdown",
   "id": "594183c5-6524-430b-b67a-b02ed70888f5",
   "metadata": {},
   "source": [
    "---"
   ]
  },
  {
   "cell_type": "raw",
   "id": "c4c7171d-3001-414d-b1a6-edb3becf312c",
   "metadata": {},
   "source": [
    "# 데이터 분석 보고서 만들기\n",
    "\n",
    "## 마크다운\n",
    "\n",
    "마크다운 문법으로 코드를 작성해 [HTML](https://ko.wikipedia.org/wiki/HTML)로 변환할 수 있습니다."
   ]
  },
  {
   "cell_type": "markdown",
   "id": "5ec3b343-7854-40a2-ac0c-cbafb0ee3a9e",
   "metadata": {},
   "source": [
    "---"
   ]
  },
  {
   "cell_type": "markdown",
   "id": "525f62a7-8bb0-4d85-bdfc-a27c47fe966b",
   "metadata": {},
   "source": [
    "# 데이터 분석 보고서 만들기\n",
    "\n",
    "## 마크다운\n",
    "\n",
    "마크다운 문법으로 코드를 작성해 [HTML](https://ko.wikipedia.org/wiki/HTML)로 변환할 수 있습니다."
   ]
  },
  {
   "cell_type": "markdown",
   "id": "adbd8b55-188f-4adb-bbf4-eddb454a0f2c",
   "metadata": {},
   "source": [
    "---"
   ]
  },
  {
   "cell_type": "markdown",
   "id": "1aa03696-a236-45b9-bd08-056df4272b0c",
   "metadata": {},
   "source": [
    "### 마크다운 문법 이용하기"
   ]
  },
  {
   "cell_type": "raw",
   "id": "6b5cb6bf-e861-4dfb-a539-550da42e1fcd",
   "metadata": {
    "tags": []
   },
   "source": [
    "문자 앞뒤에 *특수문자*를 넣으면 기울임체가 됩니다.\n",
    "\n",
    "문자 앞뒤에 **특수문자**를 넣으면 강조체가 됩니다.\n",
    "\n",
    "문자 앞뒤에 ~~특수문자~~를 넣으면 취소선을 만듭니다.\n",
    "\n",
    "문자 앞뒤에 [특수문자](http://www.google.com/search?q=special+character)를 넣으면 하이퍼링크를 만듭니다.\n",
    "\n",
    "# 1 단계 제목\n",
    "## 2 단계 제목\n",
    "### 3 단계 제목\n",
    "#### 4 단계 제목\n",
    "\n",
    "코드에 백틱 기호를 입력하면 `pandas`와 같이 음영을 넣습니다."
   ]
  },
  {
   "cell_type": "markdown",
   "id": "81d56344-7278-4b63-930e-c1f1d9348b4a",
   "metadata": {},
   "source": [
    "---"
   ]
  },
  {
   "cell_type": "markdown",
   "id": "1ebb29d2-2139-42c6-b754-106c59d16536",
   "metadata": {
    "tags": []
   },
   "source": [
    "문자 앞뒤에 *특수문자*를 넣으면 기울임체가 됩니다.\n",
    "\n",
    "문자 앞뒤에 **특수문자**를 넣으면 강조체가 됩니다.\n",
    "\n",
    "문자 앞뒤에 ~~특수문자~~를 넣으면 취소선을 만듭니다.\n",
    "\n",
    "문자 앞뒤에 [특수문자](http://www.google.com/search?q=special+character)를 넣으면 하이퍼링크를 만듭니다.\n",
    "\n",
    "# 1 단계 제목\n",
    "## 2 단계 제목\n",
    "### 3 단계 제목\n",
    "#### 4 단계 제목\n",
    "\n",
    "코드에 백틱 기호를 입력하면 `pandas`와 같이 음영을 넣습니다."
   ]
  },
  {
   "cell_type": "markdown",
   "id": "95d4d687-5a5f-4d0e-a791-ca7bc8cb6468",
   "metadata": {},
   "source": [
    "---"
   ]
  },
  {
   "cell_type": "markdown",
   "id": "d153b9f1-9af1-41b3-bdbf-fe15cc972cac",
   "metadata": {},
   "source": [
    "### 마크다운으로 데이터 분석 보고서 만들기"
   ]
  },
  {
   "cell_type": "raw",
   "id": "a8df4819-5046-4723-90f2-fff188208cf5",
   "metadata": {},
   "source": [
    "# 데이터 분석 보고서 만들기\n",
    "\n",
    "## 마크다운\n",
    "\n",
    "마크다운 문법으로 코드를 작성해 [HTML](https://ko.wikipedia.org/wiki/HTML)로 변환할 수 있습니다. 마크다운을 이용하면 분석 과정과 결과를 자세하게 기술할 수 있어서 **재현 가능성**을 갖춘 *데이터 분석 보고서*를 만들 수 있습니다.\n",
    "\n",
    "### 마크다운 문법 예제 \n",
    "\n",
    "코드와 코드 실행 결과물을 보고서에 함께 출력합니다."
   ]
  },
  {
   "cell_type": "raw",
   "id": "f9ecff4d-87b1-4878-9e35-e22c17e3bdd5",
   "metadata": {},
   "source": [
    "import pandas as pd\n",
    "df = pd.read_csv('mpg.csv')\n",
    "df['drv'].value_counts()"
   ]
  },
  {
   "cell_type": "raw",
   "id": "4815e9ec-bb85-4b80-a8ad-693b9a6d93f6",
   "metadata": {
    "tags": []
   },
   "source": [
    "import seaborn as sns\n",
    "sns.countplot(data = df, x = 'drv')"
   ]
  },
  {
   "cell_type": "markdown",
   "id": "26d7dd41-c997-48e9-a12a-bb2519e14256",
   "metadata": {},
   "source": [
    "---"
   ]
  },
  {
   "cell_type": "markdown",
   "id": "1dc1f89d-e8c5-4daf-9638-0b0dbd8573f7",
   "metadata": {},
   "source": [
    "# 데이터 분석 보고서 만들기\n",
    "\n",
    "## 마크다운\n",
    "\n",
    "마크다운 문법으로 코드를 작성해 [HTML](https://ko.wikipedia.org/wiki/HTML)로 변환할 수 있습니다. 마크다운을 이용하면 분석 과정과 결과를 자세하게 기술할 수 있어서 **재현 가능성**을 갖춘 *데이터 분석 보고서*를 만들 수 있습니다.\n",
    "\n",
    "### 마크다운 문법 예제 \n",
    "\n",
    "코드와 코드 실행 결과물을 보고서에 함께 출력합니다."
   ]
  },
  {
   "cell_type": "code",
   "execution_count": 1,
   "id": "fea30264-5a00-467d-b679-474eaeb02cc9",
   "metadata": {},
   "outputs": [
    {
     "data": {
      "text/plain": [
       "f    106\n",
       "4    103\n",
       "r     25\n",
       "Name: drv, dtype: int64"
      ]
     },
     "execution_count": 1,
     "metadata": {},
     "output_type": "execute_result"
    }
   ],
   "source": [
    "import pandas as pd\n",
    "df = pd.read_csv('mpg.csv')\n",
    "df['drv'].value_counts()"
   ]
  },
  {
   "cell_type": "code",
   "execution_count": 2,
   "id": "8b5ad2a3-b347-4695-9c0e-638a6eee538e",
   "metadata": {
    "tags": []
   },
   "outputs": [
    {
     "data": {
      "text/plain": [
       "<AxesSubplot:xlabel='drv', ylabel='count'>"
      ]
     },
     "execution_count": 2,
     "metadata": {},
     "output_type": "execute_result"
    },
    {
     "data": {
      "image/png": "[encoded data removed]",
      "text/plain": [
       "<Figure size 432x288 with 1 Axes>"
      ]
     },
     "metadata": {
      "needs_background": "light"
     },
     "output_type": "display_data"
    }
   ],
   "source": [
    "import seaborn as sns\n",
    "sns.countplot(data = df, x = 'drv')"
   ]
  },
  {
   "cell_type": "code",
   "execution_count": 3,
   "id": "7b155caf",
   "metadata": {
    "eval": false
   },
   "outputs": [
    {
     "data": {
      "text/plain": [
       "f    106\n",
       "4    103\n",
       "r     25\n",
       "Name: drv, dtype: int64"
      ]
     },
     "execution_count": 3,
     "metadata": {},
     "output_type": "execute_result"
    }
   ],
   "source": [
    "import pandas as pd\n",
    "df = pd.read_csv('mpg.csv')\n",
    "df['drv'].value_counts()"
   ]
  },
  {
   "cell_type": "code",
   "execution_count": 4,
   "id": "74eebcb3",
   "metadata": {
    "eval": false
   },
   "outputs": [
    {
     "data": {
      "text/plain": [
       "<AxesSubplot:xlabel='drv', ylabel='count'>"
      ]
     },
     "execution_count": 4,
     "metadata": {},
     "output_type": "execute_result"
    },
    {
     "data": {
      "image/png": "[encoded data removed]",
      "text/plain": [
       "<Figure size 432x288 with 1 Axes>"
      ]
     },
     "metadata": {
      "needs_background": "light"
     },
     "output_type": "display_data"
    }
   ],
   "source": [
    "import seaborn as sns\n",
    "sns.countplot(data = df, x = 'drv')"
   ]
  },
  {
   "cell_type": "markdown",
   "id": "5760513d-a46c-4037-b148-de70a9655b43",
   "metadata": {},
   "source": [
    "---"
   ]
  },
  {
   "cell_type": "markdown",
   "id": "2c7ff20c",
   "metadata": {},
   "source": [
    "### 문서 파일로 저장하기\n",
    "\n",
    "**워드 파일로 저장하기**"
   ]
  },
  {
   "cell_type": "code",
   "execution_count": null,
   "id": "b328d6ad-c698-40ce-b1d1-df4eef924148",
   "metadata": {
    "eval": false
   },
   "outputs": [],
   "source": [
    "# !pandoc report.ipynb -s -o report.docx"
   ]
  }
 ],
 "metadata": {
  "jupytext": {
   "cell_metadata_filter": "eval,-all",
   "notebook_metadata_filter": "-all"
  },
  "kernelspec": {
   "display_name": "Python 3 (ipykernel)",
   "language": "python",
   "name": "python3"
  },
  "language_info": {
   "codemirror_mode": {
    "name": "ipython",
    "version": 3
   },
   "file_extension": ".py",
   "mimetype": "text/x-python",
   "name": "python",
   "nbconvert_exporter": "python",
   "pygments_lexer": "ipython3",
   "version": "3.9.12"
  }
 },
 "nbformat": 4,
 "nbformat_minor": 5
}
